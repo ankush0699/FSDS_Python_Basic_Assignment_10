{
 "cells": [
  {
   "cell_type": "code",
   "execution_count": null,
   "metadata": {},
   "outputs": [],
   "source": [
    "# Name: Ankush Shukla   e-mail: ankushshukla0612@gmail.com \n",
    "# Python_basic_assignment_17_june"
   ]
  },
  {
   "cell_type": "code",
   "execution_count": null,
   "metadata": {},
   "outputs": [],
   "source": [
    "#Question_1:  What is the role of try and exception block?"
   ]
  },
  {
   "cell_type": "code",
   "execution_count": null,
   "metadata": {},
   "outputs": [],
   "source": [
    "#Answer:  \n",
    "\n",
    "\"\"\"\"\n",
    "# Try Block:\n",
    "\n",
    "The try block contains the code that you suspect may raise an exception or error.\n",
    "\n",
    "#Exception Block:\n",
    "\n",
    "The exception block, which follows the try block, specifies how to handle exceptions when they occur.\n",
    "If an exception occurs within the try block, the program will jump to the corresponding exception block to execute error-handling code.\n",
    "\n",
    "\"\"\""
   ]
  },
  {
   "cell_type": "code",
   "execution_count": null,
   "metadata": {},
   "outputs": [],
   "source": [
    "#Question_2: What is the syntax for a basic try-except block?"
   ]
  },
  {
   "cell_type": "code",
   "execution_count": null,
   "metadata": {},
   "outputs": [],
   "source": [
    "#Answer:\n",
    "\"\"\"\n",
    "try:\n",
    "    # Code that may raise an exception\n",
    "\n",
    "except ExceptionType as exception_variable:\n",
    "    # Code to handle the exception\n",
    "\n",
    "\"\"\""
   ]
  },
  {
   "cell_type": "code",
   "execution_count": null,
   "metadata": {},
   "outputs": [],
   "source": [
    "#Question_3:  What happens if an exception occurs inside a try block and there is no matching\n",
    "#             except block?"
   ]
  },
  {
   "cell_type": "code",
   "execution_count": null,
   "metadata": {},
   "outputs": [],
   "source": [
    "#Answer:\n",
    "\"\"\"ception occurs inside a \"try\" block and there is no matching \"except\" block to handle that specific exception, \n",
    "the exception will propagate up the call stack, and the program may terminate with an unhandled exception error message.\n",
    "\n",
    "\"\"\"\n",
    "try:\n",
    "    x = 10 / 0  # This will raise a \"ZeroDivisionError\"\n",
    "\n",
    "except ValueError as exception:\n",
    "    print(\"This code will not be executed.\")\n"
   ]
  },
  {
   "cell_type": "code",
   "execution_count": null,
   "metadata": {},
   "outputs": [],
   "source": [
    "#Question_4:  What is the difference between using a bare except block and specifying a specific\n",
    "#             exception type?"
   ]
  },
  {
   "cell_type": "code",
   "execution_count": null,
   "metadata": {},
   "outputs": [],
   "source": [
    "#Answer:\n",
    "\n",
    "\"\"\"\n",
    "Bare except block:\n",
    "\n",
    "It is typically used to handle unexpected or unknown exceptions and \n",
    "to ensure that the program doesn't crash when an unforeseen issue arises.\n",
    "\n",
    "\n",
    "Specific exception type:\n",
    "\n",
    "It catches only the exception of the specified type, allowing you to handle that specific error \n",
    "while letting other exceptions propagate up the call stack.\n",
    "\n",
    "\"\"\""
   ]
  },
  {
   "cell_type": "code",
   "execution_count": null,
   "metadata": {},
   "outputs": [],
   "source": [
    "#Question_5:  Can you have nested try-except blocks in Python? If yes, then give an example."
   ]
  },
  {
   "cell_type": "code",
   "execution_count": null,
   "metadata": {},
   "outputs": [],
   "source": [
    "#Answeer:\n",
    "\n",
    "try:\n",
    "    num1 = int(input(\"Enter a number: \"))\n",
    "    num2 = int(input(\"Enter another number: \"))\n",
    "    \n",
    "    try:\n",
    "        result = num1 / num2\n",
    "    except ZeroDivisionError:\n",
    "        print(\"Error: Division by zero.\")\n",
    "    else:\n",
    "        print(\"Result:\", result)\n",
    "\n",
    "except ValueError:\n",
    "    print(\"Invalid input. Please enter valid numbers.\")\n",
    "except Exception as e:\n",
    "    print(\"An unexpected error occurred:\", str(e))\n"
   ]
  },
  {
   "cell_type": "code",
   "execution_count": null,
   "metadata": {},
   "outputs": [],
   "source": [
    "#Question_6:  Can we use multiple exception blocks, if yes then give an example."
   ]
  },
  {
   "cell_type": "code",
   "execution_count": null,
   "metadata": {},
   "outputs": [],
   "source": [
    "#Answeer:\n",
    "\n",
    "try:\n",
    "    x = int(input(\"Enter a number: \"))\n",
    "    y = int(input(\"Enter another number: \"))\n",
    "    result = x / y\n",
    "\n",
    "except ValueError:\n",
    "    print(\"Error: Invalid input for integer conversion.\")\n",
    "\n",
    "except ZeroDivisionError:\n",
    "    print(\"Error: Division by zero is not allowed.\")\n",
    "\n",
    "except Exception as e:\n",
    "    print(f\"An unexpected error occurred: {e}\")\n",
    "\n",
    "else:\n",
    "    print(\"Result:\", result)\n"
   ]
  },
  {
   "cell_type": "code",
   "execution_count": null,
   "metadata": {},
   "outputs": [],
   "source": [
    "#Question_7:     Write the reason due to which following errors are raised:\n",
    "#                a. EOFError\n",
    "#                b. FloatingPointError\n",
    "#                c. IndexError\n",
    "#                d. MemoryError\n",
    "#                e. OverflowError\n",
    "#                f. TabError\n",
    "#                g. ValueError"
   ]
  },
  {
   "cell_type": "code",
   "execution_count": null,
   "metadata": {},
   "outputs": [],
   "source": [
    "#Answer:\n",
    "\n",
    "\"\"\"\n",
    "Here are the reasons:\n",
    "\n",
    "a. EOFError: Raised when attempting to read past the end of a file.\n",
    "\n",
    "b. FloatingPointError: Occurs during issues with floating-point arithmetic, like division by zero.\n",
    "\n",
    "c. IndexError: Raised when trying to access an out-of-bounds index in a sequence.\n",
    "\n",
    "d. MemoryError: Happens when your program runs out of available memory.\n",
    "\n",
    "e. OverflowError: Occurs when a numeric operation exceeds the maximum representable value.\n",
    "\n",
    "f. TabError: Raised for inconsistencies or issues with tab and space indentation.\n",
    "\n",
    "g. ValueError: Raised when an operation receives an argument with an inappropriate value for the expected data type.\n",
    "\n",
    "\"\"\""
   ]
  },
  {
   "cell_type": "code",
   "execution_count": null,
   "metadata": {},
   "outputs": [],
   "source": [
    "#Question:  Write code for the following given scenario and add try-exception block to it.\n",
    "#           a. Program to divide two numbers\n",
    "#           b. Program to convert a string to an integer\n",
    "#           c. Program to access an element in a list\n",
    "#           d. Program to handle a specific exception\n",
    "#           e. Program to handle any exception"
   ]
  },
  {
   "cell_type": "code",
   "execution_count": 10,
   "metadata": {},
   "outputs": [
    {
     "name": "stdout",
     "output_type": "stream",
     "text": [
      "Result: 1.0\n",
      "Integer: 5\n",
      "Error: Index is out of bounds.\n",
      "Error: Division by zero is not allowed.\n",
      "An unexpected error occurred: unsupported operand type(s) for /: 'int' and 'str'\n"
     ]
    }
   ],
   "source": [
    "#Answer:\n",
    "\n",
    "# Program to divide two numbers:\n",
    "\n",
    "try:\n",
    "    num1 = float(input(\"Enter the first number: \"))\n",
    "    num2 = float(input(\"Enter the second number: \"))\n",
    "    result = num1 / num2\n",
    "    print(\"Result:\", result)\n",
    "except ZeroDivisionError:\n",
    "    print(\"Error: Division by zero is not allowed.\")\n",
    "except ValueError:\n",
    "    print(\"Error: Invalid input. Please enter valid numbers.\")\n",
    "except Exception as e:\n",
    "    print(\"An unexpected error occurred:\", str(e))\n",
    "\n",
    "\n",
    "# Program to convert a string to an integer:\n",
    "\n",
    "try:\n",
    "    input_string = input(\"Enter an integer: \")\n",
    "    num = int(input_string)\n",
    "    print(\"Integer:\", num)\n",
    "except ValueError:\n",
    "    print(\"Error: Invalid input. Please enter a valid integer.\")\n",
    "except Exception as e:\n",
    "    print(\"An unexpected error occurred:\", str(e))\n",
    "\n",
    "\n",
    "# Program to access an element in a list:\n",
    "\n",
    "try:\n",
    "    my_list = [1, 2, 3, 4, 5]\n",
    "    index = int(input(\"Enter an index: \"))\n",
    "    value = my_list[index]\n",
    "    print(\"Value at index\", index, \"is\", value)\n",
    "except IndexError:\n",
    "    print(\"Error: Index is out of bounds.\")\n",
    "except ValueError:\n",
    "    print(\"Error: Invalid input for index. Please enter a valid integer.\")\n",
    "except Exception as e:\n",
    "    print(\"An unexpected error occurred:\", str(e))\n",
    "\n",
    "\n",
    "# Program to handle a specific exception:\n",
    "\n",
    "try:\n",
    "    x = 10 / 0 \n",
    "except ZeroDivisionError:\n",
    "    print(\"Error: Division by zero is not allowed.\")\n",
    "except Exception as e:\n",
    "    print(\"An unexpected error occurred:\", str(e))\n",
    "\n",
    "\n",
    "# Program to handle any exception:\n",
    "\n",
    "try:\n",
    "    result = 10 / '0'\n",
    "    print(\"Result:\", result)\n",
    "except Exception as e:\n",
    "    print(\"An unexpected error occurred:\", str(e))\n",
    "\n"
   ]
  }
 ],
 "metadata": {
  "kernelspec": {
   "display_name": "base",
   "language": "python",
   "name": "python3"
  },
  "language_info": {
   "codemirror_mode": {
    "name": "ipython",
    "version": 3
   },
   "file_extension": ".py",
   "mimetype": "text/x-python",
   "name": "python",
   "nbconvert_exporter": "python",
   "pygments_lexer": "ipython3",
   "version": "3.11.4"
  }
 },
 "nbformat": 4,
 "nbformat_minor": 2
}
